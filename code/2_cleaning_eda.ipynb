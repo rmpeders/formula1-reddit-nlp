{
 "cells": [
  {
   "cell_type": "markdown",
   "id": "c05c854c-7db9-4ec7-8ec0-d39221e13d73",
   "metadata": {},
   "source": [
    "# Data Cleaning and EDA \n",
    "----"
   ]
  },
  {
   "cell_type": "markdown",
   "id": "0c30ad45-f946-4e20-8267-9c670c233ae7",
   "metadata": {},
   "source": [
    "Have 10000 comments each from r/formuladank and r/formula1"
   ]
  },
  {
   "cell_type": "code",
   "execution_count": 40,
   "id": "dd3a8b05-61db-4ba7-afe0-968460b942bd",
   "metadata": {},
   "outputs": [],
   "source": [
    "# Imports\n",
    "import pandas as pd\n",
    "import numpy as np\n",
    "import matplotlib.pyplot as plt\n",
    "\n",
    "from bs4 import BeautifulSoup\n",
    "\n",
    "from nltk.stem import WordNetLemmatizer\n",
    "from nltk.stem import PorterStemmer\n",
    "from nltk.corpus import stopwords\n",
    "from nltk.tokenize import sent_tokenize, word_tokenize, RegexpTokenizer\n",
    "\n",
    "from sklearn.feature_extraction.text import CountVectorizer"
   ]
  },
  {
   "cell_type": "code",
   "execution_count": 41,
   "id": "4ef24ed4-5738-4e90-a3e0-e80b6c5f733f",
   "metadata": {},
   "outputs": [],
   "source": [
    "# Data Imports\n",
    "fd = pd.read_csv('../data/formuladank_comments.csv')\n",
    "f1 = pd.read_csv('../data/formula1_comments.csv')\n",
    "fd_t = pd.read_csv('../data/formuladank_titles.csv')\n",
    "f1_t = pd.read_csv('../data/formula1_titles.csv')"
   ]
  },
  {
   "cell_type": "code",
   "execution_count": 42,
   "id": "23b3e297-483d-4b5c-9cd0-1a53266f9a7e",
   "metadata": {},
   "outputs": [],
   "source": [
    "# Create Function to remove any potential html, and lower case words (Pulled from Katie Sylvia's breakfast hour lesson/review)\n",
    "def remove_html(review):\n",
    "    '''function to remove html and lowercase all text'''\n",
    "    review = review.lower()\n",
    "    # remove html\n",
    "    no_html = BeautifulSoup(review).text\n",
    "    return no_html"
   ]
  },
  {
   "cell_type": "code",
   "execution_count": 43,
   "id": "9c394985-016e-4452-a886-fc5a3f6ccbf1",
   "metadata": {},
   "outputs": [
    {
     "name": "stderr",
     "output_type": "stream",
     "text": [
      "C:\\Users\\rmped\\miniconda3\\envs\\dsi\\lib\\site-packages\\bs4\\__init__.py:435: MarkupResemblesLocatorWarning: The input looks more like a filename than markup. You may want to open this file and pass the filehandle into Beautiful Soup.\n",
      "  warnings.warn(\n",
      "C:\\Users\\rmped\\miniconda3\\envs\\dsi\\lib\\site-packages\\bs4\\__init__.py:404: MarkupResemblesLocatorWarning: The input looks more like a URL than markup. You may want to use an HTTP client like requests to get the document behind the URL, and feed that document to Beautiful Soup.\n",
      "  warnings.warn(\n",
      "C:\\Users\\rmped\\miniconda3\\envs\\dsi\\lib\\site-packages\\bs4\\__init__.py:435: MarkupResemblesLocatorWarning: The input looks more like a filename than markup. You may want to open this file and pass the filehandle into Beautiful Soup.\n",
      "  warnings.warn(\n",
      "C:\\Users\\rmped\\miniconda3\\envs\\dsi\\lib\\site-packages\\bs4\\__init__.py:404: MarkupResemblesLocatorWarning: The input looks more like a URL than markup. You may want to use an HTTP client like requests to get the document behind the URL, and feed that document to Beautiful Soup.\n",
      "  warnings.warn(\n"
     ]
    }
   ],
   "source": [
    "# Create a column of clean comments\n",
    "fd['clean_body'] = fd['body'].apply(remove_html)\n",
    "f1['clean_body'] = f1['body'].apply(remove_html)"
   ]
  },
  {
   "cell_type": "code",
   "execution_count": 44,
   "id": "e38fd641-c521-45e7-bf76-3fae627e318d",
   "metadata": {},
   "outputs": [
    {
     "data": {
      "text/html": [
       "<div>\n",
       "<style scoped>\n",
       "    .dataframe tbody tr th:only-of-type {\n",
       "        vertical-align: middle;\n",
       "    }\n",
       "\n",
       "    .dataframe tbody tr th {\n",
       "        vertical-align: top;\n",
       "    }\n",
       "\n",
       "    .dataframe thead th {\n",
       "        text-align: right;\n",
       "    }\n",
       "</style>\n",
       "<table border=\"1\" class=\"dataframe\">\n",
       "  <thead>\n",
       "    <tr style=\"text-align: right;\">\n",
       "      <th></th>\n",
       "      <th>subreddit</th>\n",
       "      <th>body</th>\n",
       "      <th>author_flair_text</th>\n",
       "      <th>clean_body</th>\n",
       "    </tr>\n",
       "  </thead>\n",
       "  <tbody>\n",
       "    <tr>\n",
       "      <th>0</th>\n",
       "      <td>formuladank</td>\n",
       "      <td>Yeah but Kimi's also the most experienced F1 d...</td>\n",
       "      <td>Bwoah</td>\n",
       "      <td>yeah but kimi's also the most experienced f1 d...</td>\n",
       "    </tr>\n",
       "    <tr>\n",
       "      <th>1</th>\n",
       "      <td>formuladank</td>\n",
       "      <td>What is actually happening in the original wit...</td>\n",
       "      <td>Claire Williams is waifu material</td>\n",
       "      <td>what is actually happening in the original wit...</td>\n",
       "    </tr>\n",
       "    <tr>\n",
       "      <th>2</th>\n",
       "      <td>formuladank</td>\n",
       "      <td>Yeah insane</td>\n",
       "      <td>BWOAHHHHHHH</td>\n",
       "      <td>yeah insane</td>\n",
       "    </tr>\n",
       "    <tr>\n",
       "      <th>3</th>\n",
       "      <td>formuladank</td>\n",
       "      <td>Hamilton did it before at the Germany slip n s...</td>\n",
       "      <td>NaN</td>\n",
       "      <td>hamilton did it before at the germany slip n s...</td>\n",
       "    </tr>\n",
       "    <tr>\n",
       "      <th>4</th>\n",
       "      <td>formuladank</td>\n",
       "      <td>[removed]</td>\n",
       "      <td>NaN</td>\n",
       "      <td>[removed]</td>\n",
       "    </tr>\n",
       "  </tbody>\n",
       "</table>\n",
       "</div>"
      ],
      "text/plain": [
       "     subreddit                                               body  \\\n",
       "0  formuladank  Yeah but Kimi's also the most experienced F1 d...   \n",
       "1  formuladank  What is actually happening in the original wit...   \n",
       "2  formuladank                                        Yeah insane   \n",
       "3  formuladank  Hamilton did it before at the Germany slip n s...   \n",
       "4  formuladank                                          [removed]   \n",
       "\n",
       "                   author_flair_text  \\\n",
       "0                              Bwoah   \n",
       "1  Claire Williams is waifu material   \n",
       "2                       BWOAHHHHHHH    \n",
       "3                                NaN   \n",
       "4                                NaN   \n",
       "\n",
       "                                          clean_body  \n",
       "0  yeah but kimi's also the most experienced f1 d...  \n",
       "1  what is actually happening in the original wit...  \n",
       "2                                        yeah insane  \n",
       "3  hamilton did it before at the germany slip n s...  \n",
       "4                                          [removed]  "
      ]
     },
     "execution_count": 44,
     "metadata": {},
     "output_type": "execute_result"
    }
   ],
   "source": [
    "# Make sure it was applied properly\n",
    "fd.head()"
   ]
  },
  {
   "cell_type": "code",
   "execution_count": 45,
   "id": "496c375d-1068-4a27-844c-c4f3188eb5a8",
   "metadata": {},
   "outputs": [],
   "source": [
    "# Merge dataframes to create one \n",
    "df = pd.concat([fd, f1], axis=0)"
   ]
  },
  {
   "cell_type": "code",
   "execution_count": 46,
   "id": "0e586a59-2759-4a54-b298-953dd29417e1",
   "metadata": {},
   "outputs": [
    {
     "data": {
      "text/plain": [
       "(20000, 4)"
      ]
     },
     "execution_count": 46,
     "metadata": {},
     "output_type": "execute_result"
    }
   ],
   "source": [
    "df.shape"
   ]
  },
  {
   "cell_type": "markdown",
   "id": "216062e4-ffb8-4345-a9e7-6ed0fe1792c2",
   "metadata": {},
   "source": [
    "### We have nulls in our flair text column"
   ]
  },
  {
   "cell_type": "code",
   "execution_count": 47,
   "id": "e86e0ee9-b6ed-4e45-bcdf-32fd5336823e",
   "metadata": {},
   "outputs": [
    {
     "data": {
      "text/plain": [
       "subreddit               0\n",
       "body                    0\n",
       "author_flair_text    4273\n",
       "clean_body              0\n",
       "dtype: int64"
      ]
     },
     "execution_count": 47,
     "metadata": {},
     "output_type": "execute_result"
    }
   ],
   "source": [
    "df.isnull().sum()"
   ]
  },
  {
   "cell_type": "code",
   "execution_count": 48,
   "id": "2bee10b0-11ac-49fa-afc6-c55d88f01af1",
   "metadata": {},
   "outputs": [],
   "source": [
    "df.fillna('flairless', inplace = True)"
   ]
  },
  {
   "cell_type": "code",
   "execution_count": 51,
   "id": "78a0d1ab-4bec-4867-93c7-1c4e4156c471",
   "metadata": {},
   "outputs": [
    {
     "data": {
      "text/plain": [
       "(18513, 4)"
      ]
     },
     "execution_count": 51,
     "metadata": {},
     "output_type": "execute_result"
    }
   ],
   "source": [
    "# Drop duplicates\n",
    "df.drop_duplicates(subset = 'body', inplace = True)\n",
    "df.shape"
   ]
  },
  {
   "cell_type": "code",
   "execution_count": 63,
   "id": "c90651f7-744e-4a09-8bcc-ba1c14bebeef",
   "metadata": {},
   "outputs": [
    {
     "data": {
      "text/plain": [
       "BWOAHHHHHHH                                                     5572\n",
       "flairless                                                       3135\n",
       ":mclaren: McLaren                                                429\n",
       ":formula-1-2018: Formula 1                                       330\n",
       "mission spinnow                                                  284\n",
       "                                                                ... \n",
       "they race me so hard                                               1\n",
       "aramcoaramcoaramcoaramcoaramcoaramcoaramcoaramcoaramcoaramco       1\n",
       "i edited my flair and now i’m inferior to u/sid-16 hahaha          1\n",
       "Daddy Ric uwu                                                      1\n",
       ":alberto-ascari: Alberto Ascari                                    1\n",
       "Name: author_flair_text, Length: 673, dtype: int64"
      ]
     },
     "execution_count": 63,
     "metadata": {},
     "output_type": "execute_result"
    }
   ],
   "source": [
    "df['author_flair_text'].value_counts()"
   ]
  },
  {
   "cell_type": "code",
   "execution_count": 52,
   "id": "286d8af7-07e8-479e-af05-2ee2c20bc094",
   "metadata": {},
   "outputs": [],
   "source": [
    "df.to_csv('../data/subreddit_comments.csv', index = False)"
   ]
  },
  {
   "cell_type": "code",
   "execution_count": 53,
   "id": "17283775-912a-4483-a3a6-0d64c44169fe",
   "metadata": {},
   "outputs": [
    {
     "data": {
      "text/plain": [
       "formuladank    9386\n",
       "formula1       9127\n",
       "Name: subreddit, dtype: int64"
      ]
     },
     "execution_count": 53,
     "metadata": {},
     "output_type": "execute_result"
    }
   ],
   "source": [
    "# Baseline\n",
    "df['subreddit'].value_counts()"
   ]
  },
  {
   "cell_type": "markdown",
   "id": "26c96490-b602-4aa1-b0ce-d40b2ff7846b",
   "metadata": {},
   "source": [
    "### Basic CountVectorizer to show top words\n",
    "---"
   ]
  },
  {
   "cell_type": "code",
   "execution_count": 85,
   "id": "3181bab6-d220-4927-9e05-14f6a60670e7",
   "metadata": {},
   "outputs": [],
   "source": [
    "# Read in dataframe\n",
    "df_test = pd.read_csv('../data/subreddit_comments.csv')"
   ]
  },
  {
   "cell_type": "code",
   "execution_count": 86,
   "id": "2fe60559-fc57-4ba3-96fa-43e578fc3d4e",
   "metadata": {},
   "outputs": [],
   "source": [
    "X = df_test['clean_body']\n",
    "y = df_test['subreddit']"
   ]
  },
  {
   "cell_type": "code",
   "execution_count": 87,
   "id": "dabb00bb-e8ed-4d2a-a742-3995f8adae91",
   "metadata": {},
   "outputs": [],
   "source": [
    "cvec = CountVectorizer()"
   ]
  },
  {
   "cell_type": "code",
   "execution_count": 88,
   "id": "807d1f94-0dee-405f-80ad-f4e954adf6e9",
   "metadata": {},
   "outputs": [
    {
     "data": {
      "text/plain": [
       "CountVectorizer()"
      ]
     },
     "execution_count": 88,
     "metadata": {},
     "output_type": "execute_result"
    }
   ],
   "source": [
    "cvec.fit(X)"
   ]
  },
  {
   "cell_type": "code",
   "execution_count": 89,
   "id": "0f580f81-9299-4bdb-b91b-1e307d6f0164",
   "metadata": {},
   "outputs": [],
   "source": [
    "X_new = cvec.transform(X)"
   ]
  },
  {
   "cell_type": "code",
   "execution_count": 90,
   "id": "8c5b0288-0003-4270-98b6-ab6d2fb72091",
   "metadata": {},
   "outputs": [
    {
     "data": {
      "text/plain": [
       "(18513, 19557)"
      ]
     },
     "execution_count": 90,
     "metadata": {},
     "output_type": "execute_result"
    }
   ],
   "source": [
    "# Check number of features created\n",
    "X_new.shape"
   ]
  },
  {
   "cell_type": "code",
   "execution_count": 91,
   "id": "8b5f0164-5111-4141-92b0-458fb73cd19f",
   "metadata": {},
   "outputs": [],
   "source": [
    "cv_df = pd.DataFrame(X_new.todense(), columns = cvec.get_feature_names_out())"
   ]
  },
  {
   "cell_type": "code",
   "execution_count": 92,
   "id": "285b0ddd-7d62-4e44-8b34-859e3418a316",
   "metadata": {},
   "outputs": [],
   "source": [
    "cv_df['1_or_dank'] = y.values"
   ]
  },
  {
   "cell_type": "code",
   "execution_count": 93,
   "id": "d65c2e52-b880-4252-ac33-0678f1b98406",
   "metadata": {},
   "outputs": [],
   "source": [
    "cv_df['1_or_dank'] = cv_df['1_or_dank'].map({'formuladank': 0, 'formula1': 1})"
   ]
  },
  {
   "cell_type": "code",
   "execution_count": 94,
   "id": "1947e0c7-18f7-4e98-bad3-8d98e46c08c0",
   "metadata": {},
   "outputs": [
    {
     "data": {
      "image/png": "[encoded data removed]",
      "text/plain": [
       "<Figure size 432x288 with 1 Axes>"
      ]
     },
     "metadata": {
      "needs_background": "light"
     },
     "output_type": "display_data"
    }
   ],
   "source": [
    "# Pulled from Hank's lesson (nlp-2)\n",
    "\n",
    "cv_df.groupby('1_or_dank').sum().T.sort_values(1, ascending = True).tail(10).plot.barh()\n",
    "plt.title('Highest word counts (Comments)')\n",
    "plt.legend(labels = ['formuladank', 'formula1'])\n",
    "plt.tight_layout()\n",
    "plt.savefig('../images/wc_comments.png');"
   ]
  },
  {
   "cell_type": "markdown",
   "id": "8dcf688e-3f9f-43f6-a632-aa01916eab17",
   "metadata": {},
   "source": [
    "Every single one of these is a stop word, we may benefit greatly from removing them."
   ]
  },
  {
   "cell_type": "code",
   "execution_count": 83,
   "id": "43157f42-1304-4456-99fe-7bc171bcf3b3",
   "metadata": {},
   "outputs": [
    {
     "data": {
      "image/png": "[encoded data removed]",
      "text/plain": [
       "<Figure size 432x288 with 1 Axes>"
      ]
     },
     "metadata": {
      "needs_background": "light"
     },
     "output_type": "display_data"
    }
   ],
   "source": [
    "# The above, but with stop words removed\n",
    "X = df['body']\n",
    "y = df['subreddit']\n",
    "cvec = CountVectorizer(stop_words = 'english')\n",
    "X_new = cvec.fit_transform(X)\n",
    "cv_df = pd.DataFrame(X_new.todense(), columns = cvec.get_feature_names_out())\n",
    "cv_df['1_or_dank'] = y.values\n",
    "cv_df['1_or_dank'] = cv_df['1_or_dank'].map({'formuladank': 0, 'formula1': 1})\n",
    "cv_df.groupby('1_or_dank').sum().T.sort_values(1, ascending = True).tail(10).plot.barh()\n",
    "plt.title('Highest Word Counts Without Stop Words (Comments)')\n",
    "plt.legend(labels = ['formuladank', 'formula1'])\n",
    "plt.tight_layout()\n",
    "plt.savefig('../images/wc_comments_no_stop.png');"
   ]
  },
  {
   "cell_type": "markdown",
   "id": "e6cfdd43-e5b2-4f06-820a-5f244d0bd30b",
   "metadata": {},
   "source": [
    "----\n",
    "# Title dataframes"
   ]
  },
  {
   "cell_type": "code",
   "execution_count": 54,
   "id": "7a3be134-0f99-4e09-b398-35095a4fadb4",
   "metadata": {},
   "outputs": [],
   "source": [
    "df_t = pd.concat([fd_t, f1_t], axis=0)"
   ]
  },
  {
   "cell_type": "code",
   "execution_count": 55,
   "id": "9a9971ab-c82e-47f0-bf36-6e2c004c7e22",
   "metadata": {},
   "outputs": [
    {
     "data": {
      "text/plain": [
       "(10000, 3)"
      ]
     },
     "execution_count": 55,
     "metadata": {},
     "output_type": "execute_result"
    }
   ],
   "source": [
    "df_t.shape"
   ]
  },
  {
   "cell_type": "code",
   "execution_count": 56,
   "id": "79ad61c6-906b-4ef7-915b-d6f5f5d2f7f0",
   "metadata": {},
   "outputs": [
    {
     "data": {
      "text/html": [
       "<div>\n",
       "<style scoped>\n",
       "    .dataframe tbody tr th:only-of-type {\n",
       "        vertical-align: middle;\n",
       "    }\n",
       "\n",
       "    .dataframe tbody tr th {\n",
       "        vertical-align: top;\n",
       "    }\n",
       "\n",
       "    .dataframe thead th {\n",
       "        text-align: right;\n",
       "    }\n",
       "</style>\n",
       "<table border=\"1\" class=\"dataframe\">\n",
       "  <thead>\n",
       "    <tr style=\"text-align: right;\">\n",
       "      <th></th>\n",
       "      <th>subreddit</th>\n",
       "      <th>title</th>\n",
       "      <th>author_flair_text</th>\n",
       "    </tr>\n",
       "  </thead>\n",
       "  <tbody>\n",
       "    <tr>\n",
       "      <th>0</th>\n",
       "      <td>formuladank</td>\n",
       "      <td>Honestly I need a simple answer. Please</td>\n",
       "      <td>BWOAHHHHHHH</td>\n",
       "    </tr>\n",
       "    <tr>\n",
       "      <th>1</th>\n",
       "      <td>formuladank</td>\n",
       "      <td>Yuki Tsunochill</td>\n",
       "      <td>NaN</td>\n",
       "    </tr>\n",
       "    <tr>\n",
       "      <th>2</th>\n",
       "      <td>formuladank</td>\n",
       "      <td>Take 3</td>\n",
       "      <td>BWOAHHHHHHH</td>\n",
       "    </tr>\n",
       "    <tr>\n",
       "      <th>3</th>\n",
       "      <td>formuladank</td>\n",
       "      <td>formuladank Subreddit Statistics</td>\n",
       "      <td>BWOAHHHHHHH</td>\n",
       "    </tr>\n",
       "    <tr>\n",
       "      <th>4</th>\n",
       "      <td>formuladank</td>\n",
       "      <td>We Are just pure racist</td>\n",
       "      <td>NaN</td>\n",
       "    </tr>\n",
       "  </tbody>\n",
       "</table>\n",
       "</div>"
      ],
      "text/plain": [
       "     subreddit                                    title author_flair_text\n",
       "0  formuladank  Honestly I need a simple answer. Please      BWOAHHHHHHH \n",
       "1  formuladank                          Yuki Tsunochill               NaN\n",
       "2  formuladank                                   Take 3      BWOAHHHHHHH \n",
       "3  formuladank         formuladank Subreddit Statistics      BWOAHHHHHHH \n",
       "4  formuladank                  We Are just pure racist               NaN"
      ]
     },
     "execution_count": 56,
     "metadata": {},
     "output_type": "execute_result"
    }
   ],
   "source": [
    "df_t.head()"
   ]
  },
  {
   "cell_type": "markdown",
   "id": "e6e3412e-885a-48d7-b14c-61832045dbb8",
   "metadata": {},
   "source": [
    "### Checking for duplicates "
   ]
  },
  {
   "cell_type": "code",
   "execution_count": 57,
   "id": "70d42db3-4635-4b38-8ea9-a87966506277",
   "metadata": {},
   "outputs": [
    {
     "data": {
      "text/plain": [
       "(9578, 3)"
      ]
     },
     "execution_count": 57,
     "metadata": {},
     "output_type": "execute_result"
    }
   ],
   "source": [
    "df_t.drop_duplicates(subset = 'title', inplace = True)\n",
    "df_t.shape"
   ]
  },
  {
   "cell_type": "code",
   "execution_count": 60,
   "id": "85f56819-3a85-4cb2-8a4c-38304cb0b701",
   "metadata": {},
   "outputs": [],
   "source": [
    "df_t.fillna('flairless', inplace = True)"
   ]
  },
  {
   "cell_type": "markdown",
   "id": "56c81372-d711-464d-b807-5906df81f3f8",
   "metadata": {},
   "source": [
    "### Export"
   ]
  },
  {
   "cell_type": "code",
   "execution_count": 61,
   "id": "0656c938-3f46-40ab-bde9-d66f26b9695c",
   "metadata": {},
   "outputs": [],
   "source": [
    "df_t.to_csv('../data/subreddit_titles.csv', index = False)"
   ]
  },
  {
   "cell_type": "markdown",
   "id": "fe588157-71b9-4c3e-b664-35dba5b087a2",
   "metadata": {},
   "source": [
    "### Baseline"
   ]
  },
  {
   "cell_type": "code",
   "execution_count": 59,
   "id": "62750f7a-cade-4d40-974a-f3251a8a7f21",
   "metadata": {},
   "outputs": [
    {
     "data": {
      "text/plain": [
       "formuladank    0.503445\n",
       "formula1       0.496555\n",
       "Name: subreddit, dtype: float64"
      ]
     },
     "execution_count": 59,
     "metadata": {},
     "output_type": "execute_result"
    }
   ],
   "source": [
    "df_t['subreddit'].value_counts(normalize = True)"
   ]
  },
  {
   "cell_type": "markdown",
   "id": "6ff1f2d0-4e2f-4505-999b-733e66a2c5c6",
   "metadata": {},
   "source": [
    "### Count Vectorizer to show top words"
   ]
  },
  {
   "cell_type": "code",
   "execution_count": 82,
   "id": "7791971d-c21d-4822-99dc-bd11a8499fd8",
   "metadata": {},
   "outputs": [
    {
     "data": {
      "image/png": "[encoded data removed]",
      "text/plain": [
       "<Figure size 432x288 with 1 Axes>"
      ]
     },
     "metadata": {
      "needs_background": "light"
     },
     "output_type": "display_data"
    }
   ],
   "source": [
    "# The same as done above for comments\n",
    "X = df_t['title']\n",
    "y = df_t['subreddit']\n",
    "cvec = CountVectorizer()\n",
    "X_new = cvec.fit_transform(X)\n",
    "cv_df_t = pd.DataFrame(X_new.todense(), columns = cvec.get_feature_names_out())\n",
    "cv_df_t['1_or_dank'] = y.values\n",
    "cv_df_t['1_or_dank'] = cv_df_t['1_or_dank'].map({'formuladank': 0, 'formula1': 1})\n",
    "cv_df_t.groupby('1_or_dank').sum().T.sort_values(1, ascending = True).tail(10).plot.barh()\n",
    "plt.title('Highest word counts (Titles)')\n",
    "plt.legend(labels = ['formuladank', 'formula1'])\n",
    "plt.tight_layout()\n",
    "plt.savefig('../images/wc.png');"
   ]
  },
  {
   "cell_type": "code",
   "execution_count": 81,
   "id": "023bcc72-3be5-498a-b57a-474a71820e9b",
   "metadata": {},
   "outputs": [
    {
     "data": {
      "image/png": "[encoded data removed]",
      "text/plain": [
       "<Figure size 432x288 with 1 Axes>"
      ]
     },
     "metadata": {
      "needs_background": "light"
     },
     "output_type": "display_data"
    }
   ],
   "source": [
    "# The above, but with stop words removed\n",
    "# The same as done above for comments\n",
    "X = df_t['title']\n",
    "y = df_t['subreddit']\n",
    "cvec = CountVectorizer(stop_words = 'english')\n",
    "X_new = cvec.fit_transform(X)\n",
    "cv_df_t = pd.DataFrame(X_new.todense(), columns = cvec.get_feature_names_out())\n",
    "cv_df_t['1_or_dank'] = y.values\n",
    "cv_df_t['1_or_dank'] = cv_df_t['1_or_dank'].map({'formuladank': 0, 'formula1': 1})\n",
    "cv_df_t.groupby('1_or_dank').sum().T.sort_values(1, ascending = True).tail(10).plot.barh()\n",
    "plt.title('Highest Word Counts Without Stop Words (Titles)')\n",
    "plt.legend(labels = ['formuladank', 'formula1'])\n",
    "plt.tight_layout()\n",
    "plt.savefig('../images/wc_no_stop.png');"
   ]
  },
  {
   "cell_type": "markdown",
   "id": "dc1b284b-0c05-4c64-a19d-e95f84efaaaa",
   "metadata": {},
   "source": [
    "#### How many flairless users per subreddit?"
   ]
  },
  {
   "cell_type": "code",
   "execution_count": 98,
   "id": "73d70d78-dd1e-4464-88b7-7ed23ef2d5ed",
   "metadata": {},
   "outputs": [
    {
     "data": {
      "text/plain": [
       "subreddit    author_flair_text                  \n",
       "formula1     flairless                              2205\n",
       "             :mclaren: McLaren                       167\n",
       "             :lewis-hamilton: Sir Lewis Hamilton     150\n",
       "             :formula-1-2018: Formula 1              129\n",
       "             :ferrari: Ferrari                       109\n",
       "                                                    ... \n",
       "formuladank  right up thereOHIMSORRY                   1\n",
       "             some Driver that you used to know         1\n",
       "             s🅱️inala                                  1\n",
       "             s🅱️innahutzen                             1\n",
       "             ✔ For Sure                                1\n",
       "Name: author_flair_text, Length: 433, dtype: int64"
      ]
     },
     "execution_count": 98,
     "metadata": {},
     "output_type": "execute_result"
    }
   ],
   "source": [
    "df_t.groupby('subreddit')['author_flair_text'].value_counts()"
   ]
  },
  {
   "cell_type": "code",
   "execution_count": 99,
   "id": "4497a003-f0b2-4f05-b5c6-9c3545035e08",
   "metadata": {},
   "outputs": [
    {
     "data": {
      "text/plain": [
       "subreddit    author_flair_text                  \n",
       "formula1     flairless                              3088\n",
       "             :mclaren: McLaren                       429\n",
       "             :formula-1-2018: Formula 1              330\n",
       "             :ferrari: Ferrari                       233\n",
       "             :lewis-hamilton: Sir Lewis Hamilton     197\n",
       "                                                    ... \n",
       "formuladank  s🅱️inala                                  1\n",
       "             the Maldonator                            1\n",
       "             they race me so hard                      1\n",
       "             tripping major nutsack                    1\n",
       "             🅱️WO🅰️HHHHHHH                             1\n",
       "Name: author_flair_text, Length: 678, dtype: int64"
      ]
     },
     "execution_count": 99,
     "metadata": {},
     "output_type": "execute_result"
    }
   ],
   "source": [
    "df.groupby('subreddit')['author_flair_text'].value_counts()"
   ]
  },
  {
   "cell_type": "markdown",
   "id": "c56f0c83-270e-4f17-a949-4ec8b53af56a",
   "metadata": {},
   "source": [
    "Vast majority of flairless users in formula1"
   ]
  },
  {
   "cell_type": "code",
   "execution_count": null,
   "id": "c62a6fa6-5c70-4ff7-860a-332b4659d099",
   "metadata": {},
   "outputs": [],
   "source": []
  }
 ],
 "metadata": {
  "kernelspec": {
   "display_name": "Python [conda env:dsi] *",
   "language": "python",
   "name": "conda-env-dsi-py"
  },
  "language_info": {
   "codemirror_mode": {
    "name": "ipython",
    "version": 3
   },
   "file_extension": ".py",
   "mimetype": "text/x-python",
   "name": "python",
   "nbconvert_exporter": "python",
   "pygments_lexer": "ipython3",
   "version": "3.8.13"
  }
 },
 "nbformat": 4,
 "nbformat_minor": 5
}
