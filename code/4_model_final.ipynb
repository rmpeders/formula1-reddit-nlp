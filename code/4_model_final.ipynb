{
 "cells": [
  {
   "cell_type": "markdown",
   "id": "f0222d7e-bf13-43a2-99db-bafe0a624f41",
   "metadata": {},
   "source": [
    "# Final Models"
   ]
  },
  {
   "cell_type": "markdown",
   "id": "25098639-1bc9-43be-b061-208862c157c3",
   "metadata": {},
   "source": [
    "* Explored modeling both comments as well as post titles.\n",
    "    * The post titles had a much higher classification accuracy. \n",
    "    * Surprisingly, adding feature engineering and preprocessing (lemmatizing, stemming, removing stop words, adding word counts) did not seem to help the model.\n",
    "* Pretty low accuracy for the chosen subreddits (not including flairs). \n",
    "    * This is likely a case of choosing 2 very similar subreddits (formuladank is just a subreddit for formula1 memes)\n",
    "* The models with flairs added far outperformed those without."
   ]
  },
  {
   "cell_type": "markdown",
   "id": "876bdff5-f340-4c38-986d-73e914cf07c3",
   "metadata": {},
   "source": [
    "# Data imports and setup\n",
    "---"
   ]
  },
  {
   "cell_type": "code",
   "execution_count": 4,
   "id": "ea49ab26-7fa9-43e9-915e-ceb398ba183a",
   "metadata": {},
   "outputs": [],
   "source": [
    "# Imports\n",
    "import pandas as pd\n",
    "import numpy as np\n",
    "import matplotlib.pyplot as plt\n",
    "\n",
    "from sklearn.linear_model import LogisticRegression\n",
    "from sklearn.naive_bayes import MultinomialNB\n",
    "from sklearn.model_selection import train_test_split, GridSearchCV, RandomizedSearchCV\n",
    "from sklearn.feature_extraction.text import CountVectorizer, TfidfVectorizer\n",
    "from sklearn.pipeline import Pipeline\n",
    "\n",
    "\n",
    "from nltk.stem import WordNetLemmatizer, PorterStemmer\n",
    "from nltk.corpus import stopwords\n",
    "from nltk.tokenize import sent_tokenize, word_tokenize, RegexpTokenizer\n",
    "\n",
    "from sklearn.metrics import plot_confusion_matrix, classification_report\n",
    "\n",
    "from sklearn.ensemble import RandomForestClassifier, ExtraTreesClassifier, GradientBoostingClassifier, AdaBoostClassifier, VotingClassifier\n",
    "from sklearn.compose import make_column_transformer"
   ]
  },
  {
   "cell_type": "code",
   "execution_count": 2,
   "id": "df39942b-f852-493c-ac94-b70d3d569ee0",
   "metadata": {},
   "outputs": [],
   "source": [
    "# Data imports \n",
    "df = pd.read_csv('../data/subreddit_comments.csv')\n",
    "df_t = pd.read_csv('../data/subreddit_titles.csv')"
   ]
  },
  {
   "cell_type": "markdown",
   "id": "7642632b-bb80-410e-a4b9-ece276ab4c1f",
   "metadata": {},
   "source": [
    "# Best Models\n",
    "---"
   ]
  },
  {
   "cell_type": "markdown",
   "id": "4fa8e755-5525-4edf-af04-76b272f8ef8a",
   "metadata": {},
   "source": [
    "### CV and Logistic Regression Comments with flairs"
   ]
  },
  {
   "cell_type": "code",
   "execution_count": 11,
   "id": "b8044f7e-61a4-4a68-a895-d666aaffacf1",
   "metadata": {},
   "outputs": [
    {
     "name": "stdout",
     "output_type": "stream",
     "text": [
      "Train: 0.9973350619418035\n",
      "Test: 0.9933030892201339\n"
     ]
    }
   ],
   "source": [
    "# X and y\n",
    "cvec = CountVectorizer()\n",
    "ct = make_column_transformer((cvec, 'body'), (cvec, 'author_flair_text'))\n",
    "cv = ct.fit_transform(df)\n",
    "df_cv = pd.DataFrame(cv.todense(), columns = ct.get_feature_names_out())\n",
    "\n",
    "X = df_cv\n",
    "y = df['subreddit']\n",
    "\n",
    "# Train test split\n",
    "X_train, X_test, y_train, y_test = train_test_split(X, y, \n",
    "                                                   random_state = 42,\n",
    "                                                   stratify = y)\n",
    "\n",
    "lr = LogisticRegression()\n",
    "\n",
    "lr.fit(X_train, y_train)\n",
    "print(f'Train: {lr.score(X_train, y_train)}')\n",
    "print(f'Test: {lr.score(X_test, y_test)}')"
   ]
  },
  {
   "cell_type": "code",
   "execution_count": 14,
   "id": "4039bef1-8643-4516-b15d-50bee78cd061",
   "metadata": {},
   "outputs": [
    {
     "name": "stdout",
     "output_type": "stream",
     "text": [
      "              precision    recall  f1-score   support\n",
      "\n",
      "    formula1       0.99      1.00      0.99      2282\n",
      " formuladank       1.00      0.99      0.99      2347\n",
      "\n",
      "    accuracy                           0.99      4629\n",
      "   macro avg       0.99      0.99      0.99      4629\n",
      "weighted avg       0.99      0.99      0.99      4629\n",
      "\n"
     ]
    },
    {
     "name": "stderr",
     "output_type": "stream",
     "text": [
      "C:\\Users\\rmped\\miniconda3\\envs\\dsi\\lib\\site-packages\\sklearn\\utils\\deprecation.py:87: FutureWarning: Function plot_confusion_matrix is deprecated; Function `plot_confusion_matrix` is deprecated in 1.0 and will be removed in 1.2. Use one of the class methods: ConfusionMatrixDisplay.from_predictions or ConfusionMatrixDisplay.from_estimator.\n",
      "  warnings.warn(msg, category=FutureWarning)\n"
     ]
    },
    {
     "data": {
      "image/png": "[encoded data removed]",
      "text/plain": [
       "<Figure size 432x288 with 2 Axes>"
      ]
     },
     "metadata": {
      "needs_background": "light"
     },
     "output_type": "display_data"
    }
   ],
   "source": [
    "preds = lr.predict(X_test)\n",
    "print(classification_report(y_test, preds))\n",
    "plot_confusion_matrix(lr, X_test, y_test, cmap = 'plasma')\n",
    "plt.title('Count Vectorizer/Logistic Regression on Comments + Flairs')\n",
    "plt.tight_layout()\n",
    "plt.savefig('../images/comments_flairs_cm.png');"
   ]
  },
  {
   "cell_type": "markdown",
   "id": "d11c541d-6867-44cd-9c44-e4ca23247dc6",
   "metadata": {
    "tags": []
   },
   "source": [
    "### CV and Logistic Regression Post Titles with flairs"
   ]
  },
  {
   "cell_type": "code",
   "execution_count": 15,
   "id": "53d3f662-bfd4-4e8e-93fa-f2ef7d73e2cc",
   "metadata": {},
   "outputs": [
    {
     "name": "stdout",
     "output_type": "stream",
     "text": [
      "Train: 0.9837115411388\n",
      "Test: 0.9711899791231733\n"
     ]
    }
   ],
   "source": [
    "# X and y\n",
    "cvec = CountVectorizer()\n",
    "ct = make_column_transformer((cvec, 'title'), (cvec, 'author_flair_text'))\n",
    "cv = ct.fit_transform(df_t)\n",
    "df_cv = pd.DataFrame(cv.todense(), columns = ct.get_feature_names_out())\n",
    "\n",
    "X = df_cv\n",
    "y = df_t['subreddit']\n",
    "\n",
    "# Train test split\n",
    "X_train, X_test, y_train, y_test = train_test_split(X, y, \n",
    "                                                   random_state = 42,\n",
    "                                                   stratify = y)\n",
    "\n",
    "lr = LogisticRegression()\n",
    "\n",
    "\n",
    "lr.fit(X_train, y_train)\n",
    "print(f'Train: {lr.score(X_train, y_train)}')\n",
    "print(f'Test: {lr.score(X_test, y_test)}')"
   ]
  },
  {
   "cell_type": "code",
   "execution_count": 16,
   "id": "81a89172-62ce-4e94-aaa0-6ffaa53181f2",
   "metadata": {},
   "outputs": [
    {
     "name": "stdout",
     "output_type": "stream",
     "text": [
      "              precision    recall  f1-score   support\n",
      "\n",
      "    formula1       0.95      0.99      0.97      1189\n",
      " formuladank       0.99      0.95      0.97      1206\n",
      "\n",
      "    accuracy                           0.97      2395\n",
      "   macro avg       0.97      0.97      0.97      2395\n",
      "weighted avg       0.97      0.97      0.97      2395\n",
      "\n"
     ]
    },
    {
     "name": "stderr",
     "output_type": "stream",
     "text": [
      "C:\\Users\\rmped\\miniconda3\\envs\\dsi\\lib\\site-packages\\sklearn\\utils\\deprecation.py:87: FutureWarning: Function plot_confusion_matrix is deprecated; Function `plot_confusion_matrix` is deprecated in 1.0 and will be removed in 1.2. Use one of the class methods: ConfusionMatrixDisplay.from_predictions or ConfusionMatrixDisplay.from_estimator.\n",
      "  warnings.warn(msg, category=FutureWarning)\n"
     ]
    },
    {
     "data": {
      "image/png": "[encoded data removed]",
      "text/plain": [
       "<Figure size 432x288 with 2 Axes>"
      ]
     },
     "metadata": {
      "needs_background": "light"
     },
     "output_type": "display_data"
    }
   ],
   "source": [
    "preds = lr.predict(X_test)\n",
    "print(classification_report(y_test, preds))\n",
    "plot_confusion_matrix(lr, X_test, y_test, cmap = 'plasma')\n",
    "plt.title('Count Vectorizer/Logistic Regression on Titles + Flairs')\n",
    "plt.tight_layout()\n",
    "plt.savefig('../images/titles_flairs_cm.png');"
   ]
  },
  {
   "cell_type": "markdown",
   "id": "5f69e1ec-11eb-4296-9099-1fa8aaa61615",
   "metadata": {},
   "source": [
    "---\n",
    "# Original Models"
   ]
  },
  {
   "cell_type": "markdown",
   "id": "4d4cc33c-e104-4812-90b9-97d783f63f32",
   "metadata": {},
   "source": [
    "## TF-IDF and Random Forest for post titles"
   ]
  },
  {
   "cell_type": "code",
   "execution_count": 17,
   "id": "de4b0ebf-7204-4c6d-9928-7f4c64e6463e",
   "metadata": {},
   "outputs": [
    {
     "name": "stdout",
     "output_type": "stream",
     "text": [
      "Train: 0.9980509536405402\n",
      "Test: 0.7716075156576201\n"
     ]
    }
   ],
   "source": [
    "# Train/Test split\n",
    "X = df_t['title']\n",
    "y = df_t['subreddit']\n",
    "X_train, X_test, y_train, y_test = train_test_split(X, y, \n",
    "                                                   random_state = 42,\n",
    "                                                   stratify = y)\n",
    "# Pipeline\n",
    "pipe = Pipeline([\n",
    "    ('tvec', TfidfVectorizer(max_df = 0.25, max_features = 8000)),\n",
    "    ('rf', RandomForestClassifier(n_estimators = 200))\n",
    "])\n",
    "\n",
    "pipe.fit(X_train, y_train)\n",
    "\n",
    "print(f'Train: {pipe.score(X_train, y_train)}')\n",
    "print(f'Test: {pipe.score(X_test, y_test)}')\n"
   ]
  },
  {
   "cell_type": "code",
   "execution_count": 18,
   "id": "de7e8ce9-fa9a-47ff-8629-44803a802ab1",
   "metadata": {},
   "outputs": [
    {
     "name": "stdout",
     "output_type": "stream",
     "text": [
      "              precision    recall  f1-score   support\n",
      "\n",
      "    formula1       0.77      0.77      0.77      1189\n",
      " formuladank       0.77      0.78      0.77      1206\n",
      "\n",
      "    accuracy                           0.77      2395\n",
      "   macro avg       0.77      0.77      0.77      2395\n",
      "weighted avg       0.77      0.77      0.77      2395\n",
      "\n"
     ]
    },
    {
     "name": "stderr",
     "output_type": "stream",
     "text": [
      "C:\\Users\\rmped\\miniconda3\\envs\\dsi\\lib\\site-packages\\sklearn\\utils\\deprecation.py:87: FutureWarning: Function plot_confusion_matrix is deprecated; Function `plot_confusion_matrix` is deprecated in 1.0 and will be removed in 1.2. Use one of the class methods: ConfusionMatrixDisplay.from_predictions or ConfusionMatrixDisplay.from_estimator.\n",
      "  warnings.warn(msg, category=FutureWarning)\n"
     ]
    },
    {
     "data": {
      "image/png": "[encoded data removed]",
      "text/plain": [
       "<Figure size 432x288 with 2 Axes>"
      ]
     },
     "metadata": {
      "needs_background": "light"
     },
     "output_type": "display_data"
    }
   ],
   "source": [
    "preds = pipe.predict(X_test)\n",
    "print(classification_report(y_test, preds))\n",
    "plot_confusion_matrix(pipe, X_test, y_test, cmap = 'plasma')\n",
    "plt.title('TF-IDF/Random Forest on Titles')\n",
    "plt.tight_layout()\n",
    "plt.savefig('../images/titles_cm.png');"
   ]
  },
  {
   "cell_type": "markdown",
   "id": "220bc95f-c208-4b69-93cb-295955748b3b",
   "metadata": {},
   "source": [
    "## TF-IDF and Logistic Regression for comments"
   ]
  },
  {
   "cell_type": "code",
   "execution_count": 19,
   "id": "50bb84bd-da79-4852-a957-1cdba26c2154",
   "metadata": {},
   "outputs": [
    {
     "name": "stdout",
     "output_type": "stream",
     "text": [
      "Train: 0.7551858254105445\n",
      "Test: 0.6411751998271765\n"
     ]
    }
   ],
   "source": [
    "# Train/Test split\n",
    "X = df['body']\n",
    "y = df['subreddit']\n",
    "X_train, X_test, y_train, y_test = train_test_split(X, y, \n",
    "                                                   random_state = 42,\n",
    "                                                   stratify = y)\n",
    "# Pipeline\n",
    "pipe = Pipeline([\n",
    "    ('tvec', TfidfVectorizer(max_df = 0.3, max_features = 10000)),\n",
    "    ('log', LogisticRegression(C = 0.75))\n",
    "])\n",
    "\n",
    "pipe.fit(X_train, y_train)\n",
    "\n",
    "print(f'Train: {pipe.score(X_train, y_train)}')\n",
    "print(f'Test: {pipe.score(X_test, y_test)}')\n"
   ]
  },
  {
   "cell_type": "code",
   "execution_count": 20,
   "id": "5cd7384b-6543-4496-a324-4cb940aff5ee",
   "metadata": {},
   "outputs": [
    {
     "name": "stdout",
     "output_type": "stream",
     "text": [
      "              precision    recall  f1-score   support\n",
      "\n",
      "    formula1       0.64      0.63      0.63      2282\n",
      " formuladank       0.64      0.66      0.65      2347\n",
      "\n",
      "    accuracy                           0.64      4629\n",
      "   macro avg       0.64      0.64      0.64      4629\n",
      "weighted avg       0.64      0.64      0.64      4629\n",
      "\n"
     ]
    },
    {
     "name": "stderr",
     "output_type": "stream",
     "text": [
      "C:\\Users\\rmped\\miniconda3\\envs\\dsi\\lib\\site-packages\\sklearn\\utils\\deprecation.py:87: FutureWarning: Function plot_confusion_matrix is deprecated; Function `plot_confusion_matrix` is deprecated in 1.0 and will be removed in 1.2. Use one of the class methods: ConfusionMatrixDisplay.from_predictions or ConfusionMatrixDisplay.from_estimator.\n",
      "  warnings.warn(msg, category=FutureWarning)\n"
     ]
    },
    {
     "data": {
      "image/png": "[encoded data removed]",
      "text/plain": [
       "<Figure size 432x288 with 2 Axes>"
      ]
     },
     "metadata": {
      "needs_background": "light"
     },
     "output_type": "display_data"
    }
   ],
   "source": [
    "preds = pipe.predict(X_test)\n",
    "print(classification_report(y_test, preds))\n",
    "plot_confusion_matrix(pipe, X_test, y_test, cmap = 'plasma')\n",
    "plt.title('TF-IDF/Logistic Regression on Comments')\n",
    "plt.tight_layout()\n",
    "plt.savefig('../images/comments_cm.png');"
   ]
  },
  {
   "cell_type": "code",
   "execution_count": null,
   "id": "535aea27-68c5-45ee-90db-b16897d25d3e",
   "metadata": {},
   "outputs": [],
   "source": []
  }
 ],
 "metadata": {
  "kernelspec": {
   "display_name": "Python [conda env:dsi] *",
   "language": "python",
   "name": "conda-env-dsi-py"
  },
  "language_info": {
   "codemirror_mode": {
    "name": "ipython",
    "version": 3
   },
   "file_extension": ".py",
   "mimetype": "text/x-python",
   "name": "python",
   "nbconvert_exporter": "python",
   "pygments_lexer": "ipython3",
   "version": "3.8.13"
  }
 },
 "nbformat": 4,
 "nbformat_minor": 5
}
